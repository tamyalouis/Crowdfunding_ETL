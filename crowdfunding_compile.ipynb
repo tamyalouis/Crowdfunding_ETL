#SQL and PostgreSQL generated originally from CHATGPT and adjusted for the project.
{
 "cells": [
  {
   "cell_type": "code",
   "execution_count": null,
   "id": "90726c4c-6ca7-4d73-af08-507545b771de",
   "metadata": {},
   "outputs": [],
   "source": [
    "import psycopg2\n",
    "from psycopg2 import sql"
   ]
  },
  {
   "cell_type": "code",
   "execution_count": null,
   "id": "e557b773-cee5-4397-914e-a96a97db01fa",
   "metadata": {},
   "outputs": [],
   "source": [
    "# Connect to PostgreSQL as a superuser or database admin\n",
    "conn = psycopg2.connect(\n",
    "    dbname=\"postgres\",  # Connect to the default 'postgres' database\n",
    "    user=\"your_user\",\n",
    "    password=\"your_password\",\n",
    "    host=\"localhost\",  # or your PostgreSQL host\n",
    "    port=\"5432\"  # default PostgreSQL port\n",
    ")\n",
    "conn.autocommit = True  # Allows creating new databases without using transactions\n",
    "cursor = conn.cursor()"
   ]
  },
  {
   "cell_type": "code",
   "execution_count": null,
   "id": "db9cc12b-acb7-459c-915f-bca387df825b",
   "metadata": {},
   "outputs": [],
   "source": [
    "# Step 1: Create the 'crowdfunding' database\n",
    "cursor.execute(\"CREATE DATABASE crowdfunding;\")\n",
    "print(\"Database 'crowdfunding' created successfully.\")\n"
   ]
  },
  {
   "cell_type": "code",
   "execution_count": null,
   "id": "42932429-16a0-497f-b4be-8ada4e2deac8",
   "metadata": {},
   "outputs": [],
   "source": [
    "# Step 2: Close the connection to the current database and reconnect to 'crowdfunding'\n",
    "conn.close()\n"
   ]
  },
  {
   "cell_type": "code",
   "execution_count": null,
   "id": "277ec948-7dac-434f-b164-0f2427dd12f6",
   "metadata": {},
   "outputs": [],
   "source": [
    "# Now connect to the 'crowdfunding' database\n",
    "conn = psycopg2.connect(\n",
    "    dbname=\"crowdfunding\",  # Now using the 'crowdfunding' database\n",
    "    user=\"your_user\",\n",
    "    password=\"your_password\",\n",
    "    host=\"localhost\",\n",
    "    port=\"5432\"\n",
    ")\n",
    "cursor = conn.cursor()\n"
   ]
  },
  {
   "cell_type": "code",
   "execution_count": null,
   "id": "3f933330-7834-4687-bc92-a36dbec3a509",
   "metadata": {},
   "outputs": [],
   "source": [
    "# Step 3: Create the 'contacts' table\n",
    "cursor.execute(\"\"\"\n",
    "    CREATE TABLE contacts (\n",
    "        contact_id SERIAL PRIMARY KEY,\n",
    "        first_name VARCHAR(100),\n",
    "        last_name VARCHAR(100),\n",
    "        email VARCHAR(100) UNIQUE NOT NULL,\n",
    "        phone VARCHAR(20),\n",
    "        address TEXT\n",
    "    );\n",
    "\"\"\")\n",
    "print(\"Table 'contacts' created successfully.\")\n"
   ]
  },
  {
   "cell_type": "code",
   "execution_count": null,
   "id": "9817173b-cb8e-482a-a905-649c44444fb1",
   "metadata": {},
   "outputs": [],
   "source": [
    "# Step 4: Create the 'category' table\n",
    "cursor.execute(\"\"\"\n",
    "    CREATE TABLE category (\n",
    "        category_id SERIAL PRIMARY KEY,\n",
    "        category_name VARCHAR(100) UNIQUE NOT NULL\n",
    "    );\n",
    "\"\"\")\n",
    "print(\"Table 'category' created successfully.\")"
   ]
  },
  {
   "cell_type": "code",
   "execution_count": null,
   "id": "28458af8-4625-43a3-a7f8-7e174d04f50f",
   "metadata": {},
   "outputs": [],
   "source": [
    "# Step 5: Create the 'subcategory' table\n",
    "cursor.execute(\"\"\"\n",
    "    CREATE TABLE subcategory (\n",
    "        subcategory_id SERIAL PRIMARY KEY,\n",
    "        category_id INT REFERENCES category(category_id) ON DELETE CASCADE,\n",
    "        subcategory_name VARCHAR(100) NOT NULL\n",
    "    );\n",
    "\"\"\")\n",
    "print(\"Table 'subcategory' created successfully.\")\n"
   ]
  },
  {
   "cell_type": "code",
   "execution_count": null,
   "id": "a599d5ef-506f-44fa-bab8-db0b0ed639eb",
   "metadata": {},
   "outputs": [],
   "source": [
    "# Step 6: Create the 'campaign' table\n",
    "cursor.execute(\"\"\"\n",
    "    CREATE TABLE campaign (\n",
    "        campaign_id SERIAL PRIMARY KEY,\n",
    "        contact_id INT REFERENCES contacts(contact_id) ON DELETE CASCADE,\n",
    "        subcategory_id INT REFERENCES subcategory(subcategory_id) ON DELETE SET NULL,\n",
    "        campaign_name VARCHAR(255) NOT NULL,\n",
    "        description TEXT,\n",
    "        goal_amount NUMERIC(12, 2),\n",
    "        raised_amount NUMERIC(12, 2),\n",
    "        start_date DATE,\n",
    "        end_date DATE,\n",
    "        status VARCHAR(50)\n",
    "    );\n",
    "\"\"\")\n",
    "print(\"Table 'campaign' created successfully.\")\n"
   ]
  },
  {
   "cell_type": "code",
   "execution_count": null,
   "id": "32becd00-abee-4f05-a974-6c383c4924a8",
   "metadata": {},
   "outputs": [],
   "source": [
    "# Commit the changes and close the connection\n",
    "conn.commit()\n",
    "conn.close()"
   ]
  }
 ],
 "metadata": {
  "kernelspec": {
   "display_name": "Python 3 (ipykernel)",
   "language": "python",
   "name": "python3"
  },
  "language_info": {
   "codemirror_mode": {
    "name": "ipython",
    "version": 3
   },
   "file_extension": ".py",
   "mimetype": "text/x-python",
   "name": "python",
   "nbconvert_exporter": "python",
   "pygments_lexer": "ipython3",
   "version": "3.12.3"
  }
 },
 "nbformat": 4,
 "nbformat_minor": 5
}
